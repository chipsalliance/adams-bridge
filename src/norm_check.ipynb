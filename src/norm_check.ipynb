{
 "cells": [
  {
   "cell_type": "markdown",
   "metadata": {},
   "source": [
    "# Dilithium NormCheck Reference Implementation"
   ]
  },
  {
   "cell_type": "code",
   "execution_count": 1,
   "metadata": {},
   "outputs": [],
   "source": [
    "import random"
   ]
  },
  {
   "cell_type": "markdown",
   "metadata": {},
   "source": [
    "### Parameters"
   ]
  },
  {
   "cell_type": "code",
   "execution_count": 2,
   "metadata": {},
   "outputs": [],
   "source": [
    "DILITHIUM_Q = 8380417 # 2**23 - 2**13 + 1\n",
    "DILITHIUM_N = 256\n",
    "DILITHIUM_LOGN = 8\n",
    "DILITHIUM_ROOT_OF_UNITY = 1753\n",
    "\n",
    "## Category 5 parameters:\n",
    "DILITHIUM_K = 8\n",
    "DILITHIUM_L = 7\n",
    "DILITHIUM_ETA = 2\n",
    "DILITHIUM_TAU = 60\n",
    "DILITHIUM_GAMMA1 = 2**19\n",
    "DILITHIUM_GAMMA2 = (DILITHIUM_Q -1)// 32\n",
    "DILITHIUM_BETA = DILITHIUM_TAU * DILITHIUM_ETA"
   ]
  },
  {
   "cell_type": "markdown",
   "metadata": {},
   "source": [
    "### NormCheck ref model"
   ]
  },
  {
   "cell_type": "code",
   "execution_count": 3,
   "metadata": {},
   "outputs": [],
   "source": [
    "\"\"\"\n",
    "`_norm_check` is applied to matricies and `norm_check_poly` \n",
    "applies to the polynomials, which are elements of the matricies. \n",
    "\n",
    "`norm_check_poly` uses the util functions `norm_check` \n",
    "which works on field elements\n",
    "\"\"\" \n",
    "global cnt \n",
    "def _norm_check(vec, bound):\n",
    "    global cnt\n",
    "    cnt = 0\n",
    "    return [norm_check_poly(poly, bound) for poly in vec]\n",
    "\n",
    "def norm_check_poly(poly, bound):\n",
    "    #print(\"next poly\")\n",
    "    return [norm_check(coeff, bound) for coeff in poly]\n",
    "\n",
    "def norm_check(n, bound):\n",
    "    global cnt\n",
    "    #print(cnt, end=' ')\n",
    "    cnt +=1\n",
    "    x = n % DILITHIUM_Q                # x ∈ {0,        ...,                    ...,     q-1}\n",
    "    x = ((DILITHIUM_Q - 1) >> 1) - x   # x ∈ {-(q-1)/2, ...,       -1,       0, ..., (q-1)/2}\n",
    "    x = x ^ (x >> 31)                  # x ∈ { (q-3)/2, ...,        0,       0, ..., (q-1)/2}\n",
    "    x = ((DILITHIUM_Q - 1) >> 1) - x   # x ∈ {0, 1,     ...,  (q-1)/2, (q-1)/2, ...,       1}\n",
    "    return x >= bound"
   ]
  },
  {
   "cell_type": "markdown",
   "metadata": {},
   "source": [
    "## Test"
   ]
  },
  {
   "cell_type": "code",
   "execution_count": 4,
   "metadata": {},
   "outputs": [
    {
     "name": "stdout",
     "output_type": "stream",
     "text": [
      "z0 test rejected\n",
      "r0 test rejected\n",
      "ct0 test rejected\n",
      "t test successful\n"
     ]
    }
   ],
   "source": [
    "# Test 1\n",
    "bound_z0 = DILITHIUM_GAMMA1 - DILITHIUM_BETA\n",
    "z0 = [[random.randint(0, DILITHIUM_Q - 1) for _ in range(DILITHIUM_N)] for poly_i in range(DILITHIUM_L)]\n",
    "z0_norm_check = _norm_check(z0, bound_z0)\n",
    "z0_has_true = any([item for sublist in z0_norm_check for item in sublist])\n",
    "if z0_has_true:\n",
    "    print(\"z0 test rejected\")\n",
    "else:\n",
    "    print(\"z0 test successful\")\n",
    "\n",
    "# Test 2\n",
    "bound_r0 = DILITHIUM_GAMMA2 - DILITHIUM_BETA\n",
    "r0 = [[random.randint(0, DILITHIUM_Q - 1) for _ in range(DILITHIUM_N)] for poly_i in range(DILITHIUM_K)]\n",
    "r0_norm_check = _norm_check(r0, bound_r0)\n",
    "r0_has_true = any([item for sublist in r0_norm_check for item in sublist])\n",
    "if r0_has_true:\n",
    "    print(\"r0 test rejected\")\n",
    "else:\n",
    "    print(\"r0 test successful\")\n",
    "\n",
    "# Test 3\n",
    "bound_ct0 = DILITHIUM_GAMMA2 \n",
    "ct0 = [[random.randint(0, DILITHIUM_Q - 1) for _ in range(DILITHIUM_N)] for poly_i in range(DILITHIUM_K)]\n",
    "ct0_norm_check = _norm_check(ct0, bound_ct0)\n",
    "ct0_has_true = any([item for sublist in ct0_norm_check for item in sublist])\n",
    "if ct0_has_true:\n",
    "    print(\"ct0 test rejected\")\n",
    "else:\n",
    "    print(\"ct0 test successful\")\n",
    "\n",
    "# Successful Test\n",
    "range1 = (0, bound_ct0 - 1)\n",
    "range2 = (DILITHIUM_Q - bound_ct0, DILITHIUM_Q - 1)\n",
    "t = [[random.randint(*random.choice([range1, range2])) for _ in range(DILITHIUM_N)] for poly_i in range(DILITHIUM_K)]\n",
    "t_norm_check = _norm_check(t, bound_ct0)\n",
    "t_has_true = any([item for sublist in t_norm_check for item in sublist])\n",
    "if t_has_true:\n",
    "    print(\"t test rejected\")\n",
    "else:\n",
    "    print(\"t test successful\")"
   ]
  }
 ],
 "metadata": {
  "kernelspec": {
   "display_name": "Python 3",
   "language": "python",
   "name": "python3"
  },
  "language_info": {
   "codemirror_mode": {
    "name": "ipython",
    "version": 3
   },
   "file_extension": ".py",
   "mimetype": "text/x-python",
   "name": "python",
   "nbconvert_exporter": "python",
   "pygments_lexer": "ipython3",
   "version": "3.6.8"
  }
 },
 "nbformat": 4,
 "nbformat_minor": 2
}
