{
 "cells": [
  {
   "cell_type": "markdown",
   "metadata": {},
   "source": [
    "# Dilithium Samplers Reference Implementation"
   ]
  },
  {
   "cell_type": "code",
   "execution_count": 1,
   "metadata": {},
   "outputs": [],
   "source": [
    "import os\n",
    "import binascii"
   ]
  },
  {
   "cell_type": "markdown",
   "metadata": {},
   "source": [
    "### Parameters"
   ]
  },
  {
   "cell_type": "code",
   "execution_count": 2,
   "metadata": {},
   "outputs": [],
   "source": [
    "DILITHIUM_Q = 8380417 # 2**23 - 2**13 + 1\n",
    "DILITHIUM_N = 256\n",
    "DILITHIUM_LOGN = 8\n",
    "DILITHIUM_ROOT_OF_UNITY = 1753\n",
    "\n",
    "## Category 5 parameters:\n",
    "DILITHIUM_ETA = 2\n",
    "DILITHIUM_ETA_BOUND = 15\n",
    "DILITHIUM_TAU = 60\n",
    "DILITHIUM_GAMMA1 = 2**19"
   ]
  },
  {
   "cell_type": "markdown",
   "metadata": {},
   "source": [
    "### SHAKE"
   ]
  },
  {
   "cell_type": "code",
   "execution_count": 3,
   "metadata": {},
   "outputs": [],
   "source": [
    "from hashlib import shake_128, shake_256\n",
    "\n",
    "class Shake():\n",
    "    def __init__(self, algorithm, block_length):\n",
    "        self.algorithm    = algorithm\n",
    "        self.block_length = block_length\n",
    "        self.read_blocks  = 0\n",
    "        self.read_data    = b\"\"\n",
    "        \n",
    "    def absorb(self, input_bytes):\n",
    "        self.read_blocks  = 0\n",
    "        self.read_data    = b\"\"\n",
    "        self.xof = self.algorithm(input_bytes)\n",
    "        \n",
    "    def digest(self, input_bytes, length):\n",
    "        return self.algorithm(input_bytes).digest(length)\n",
    "        \n",
    "    def get_n_blocks(self, n):\n",
    "        byte_count = self.block_length * (self.read_blocks + n)\n",
    "        xof_data   = self.xof.digest(byte_count)\n",
    "        self.read_blocks += n\n",
    "        self.read_data = xof_data[-self.block_length*n:]\n",
    "    \n",
    "    def read(self, n):\n",
    "        if n > len(self.read_data):\n",
    "            self.get_n_blocks(5*n)\n",
    "        send = self.read_data[:n]\n",
    "        self.read_data = self.read_data[n:]\n",
    "        return send\n",
    "\n",
    "Shake128 = Shake(shake_128, 168)\n",
    "Shake256 = Shake(shake_256, 136)"
   ]
  },
  {
   "cell_type": "markdown",
   "metadata": {},
   "source": [
    "### RejBounded ref model"
   ]
  },
  {
   "cell_type": "code",
   "execution_count": 4,
   "metadata": {},
   "outputs": [],
   "source": [
    "def rejbounded(seed, i):\n",
    "    global DILITHIUM_Q\n",
    "    global DILITHIUM_N\n",
    "    global DILITHIUM_ETA\n",
    "    global DILITHIUM_ETA_BOUND\n",
    " \n",
    "    def rejection_sample(xof):\n",
    "        while True:\n",
    "            js = []\n",
    "\n",
    "            # Consider two values for each byte (top and bottom four bits)\n",
    "            j  = xof.read(1)\n",
    "            j  = int.from_bytes(j, \"little\")\n",
    "            j0 = j & 0x0F\n",
    "            j1 = j >> 4\n",
    "            \n",
    "            # rejection sample\n",
    "            if j0 < DILITHIUM_ETA_BOUND:\n",
    "                if DILITHIUM_ETA == 2: j0 %= 5\n",
    "                js.append((DILITHIUM_ETA - j0) % DILITHIUM_Q)\n",
    "                \n",
    "            if j1 < DILITHIUM_ETA_BOUND:\n",
    "                if DILITHIUM_ETA == 2: j1 %= 5\n",
    "                js.append((DILITHIUM_ETA - j1) % DILITHIUM_Q)\n",
    "            \n",
    "            if js:\n",
    "                return js\n",
    "                \n",
    "    # Initialise the XOF\n",
    "    seed = seed + int.to_bytes(i, 2, \"little\")\n",
    "    Shake256.absorb(seed)\n",
    "\n",
    "    coeffs = []\n",
    "    while len(coeffs) < DILITHIUM_N:\n",
    "        js = rejection_sample(Shake256)\n",
    "        coeffs += js\n",
    "\n",
    "    # Remove the last byte if we ended up overfilling\n",
    "    if len(coeffs) > DILITHIUM_N:\n",
    "        coeffs = coeffs[:DILITHIUM_N]\n",
    "    \n",
    "    return coeffs"
   ]
  },
  {
   "cell_type": "markdown",
   "metadata": {},
   "source": [
    "### Rejection_q ref model"
   ]
  },
  {
   "cell_type": "code",
   "execution_count": 5,
   "metadata": {},
   "outputs": [],
   "source": [
    "def rejection_q(seed, i, j):\n",
    "    global DILITHIUM_Q\n",
    "    global DILITHIUM_N\n",
    "\n",
    "    def rejection_sample(xof):\n",
    "        while True:                \n",
    "            j_bytes = xof.read(3)\n",
    "            j = int.from_bytes(j_bytes, \"little\")\n",
    "            j &= 0x7FFFFF\n",
    "            if j < DILITHIUM_Q:\n",
    "                return j\n",
    "\n",
    "    # Initialise the XOF\n",
    "    seed = seed + bytes([j, i])\n",
    "    Shake128.absorb(seed)\n",
    "    coeffs = [rejection_sample(Shake128) for _ in range(DILITHIUM_N)]\n",
    "    return coeffs"
   ]
  },
  {
   "cell_type": "markdown",
   "metadata": {},
   "source": [
    "### SampleInBall Ref Model"
   ]
  },
  {
   "cell_type": "code",
   "execution_count": 6,
   "metadata": {},
   "outputs": [],
   "source": [
    "def sample_in_ball(seed):\n",
    "    global DILITHIUM_Q\n",
    "    global DILITHIUM_N\n",
    "    global DILITHIUM_TAU\n",
    "\n",
    "    def rejection_sample(i, xof):\n",
    "        while True:\n",
    "            j = xof.read(1)\n",
    "            j = int.from_bytes(j, \"little\")\n",
    "            if j <= i: \n",
    "                return j\n",
    "    \n",
    "    # Initialise the XOF\n",
    "    Shake256.absorb(seed)\n",
    "    \n",
    "    # Set the first 8 bytes for the sign, and leave the rest for\n",
    "    # sampling.\n",
    "    sign_bytes = Shake256.read(8)\n",
    "    sign_int = int.from_bytes(sign_bytes, \"little\")\n",
    "    \n",
    "    # Set the list of coeffs to be 0\n",
    "    coeffs = [0 for _ in range(DILITHIUM_N)]\n",
    "    \n",
    "    # Now set tau values of coeffs to be ±1\n",
    "    for i in range(DILITHIUM_N - DILITHIUM_TAU, DILITHIUM_N):\n",
    "        j = rejection_sample(i, Shake256)\n",
    "        coeffs[i] = coeffs[j]\n",
    "        coeffs[j] = (1 - 2*(sign_int & 1)) % DILITHIUM_Q\n",
    "        sign_int >>= 1\n",
    "        \n",
    "    return coeffs"
   ]
  },
  {
   "cell_type": "markdown",
   "metadata": {},
   "source": [
    "### Expand_Mask Ref Model"
   ]
  },
  {
   "cell_type": "code",
   "execution_count": 7,
   "metadata": {},
   "outputs": [],
   "source": [
    "def expand_mask(seed, i, kappa):                            \n",
    "    global DILITHIUM_Q\n",
    "    global DILITHIUM_N\n",
    "    global DILITHIUM_GAMMA1\n",
    "\n",
    "    if DILITHIUM_GAMMA1 == (1 << 17):\n",
    "        bit_count = 18\n",
    "        total_bytes = 576 # (256 * 18) / 8\n",
    "    else:\n",
    "        bit_count = 20\n",
    "        total_bytes = 640 # (256 * 20) / 8\n",
    "    \n",
    "    # Initialise the XOF\n",
    "    seed = seed + int.to_bytes(kappa+i, 2, \"little\")\n",
    "    xof_bytes = Shake256.digest(seed, total_bytes)\n",
    "    r = int.from_bytes(xof_bytes, 'little')\n",
    "    mask = (1 << bit_count) - 1\n",
    "    coeffs = [((DILITHIUM_GAMMA1 - ((r >> bit_count*i) & mask)) % DILITHIUM_Q) for i in range(DILITHIUM_N)]\n",
    "    \n",
    "    return coeffs"
   ]
  },
  {
   "cell_type": "markdown",
   "metadata": {},
   "source": [
    "### Test"
   ]
  },
  {
   "cell_type": "code",
   "execution_count": 8,
   "metadata": {},
   "outputs": [
    {
     "name": "stdout",
     "output_type": "stream",
     "text": [
      "     0 7FDFFF 7FE000 7FE000      0 7FE000      0      2      0 7FE000      2 7FE000      2      1 7FE000      2\n",
      "     1      1      1      0      0 7FE000      1      0      1      2      0      0      1 7FDFFF      2      0\n",
      "     0      0 7FE000      1 7FDFFF      2 7FE000      1      0 7FDFFF      2 7FDFFF 7FE000 7FE000      0      1\n",
      "     2 7FE000      2      0      1      0 7FDFFF 7FE000      1 7FDFFF      2 7FE000      2 7FDFFF      2 7FE000\n",
      "     2 7FE000 7FDFFF      2 7FE000 7FDFFF      2 7FDFFF      2      0 7FDFFF      1      0      2      2      0\n",
      "     2      1      1 7FDFFF 7FE000      2      1 7FDFFF      1      2      1      2      1 7FDFFF 7FE000      0\n",
      "     1      1      1      1 7FDFFF      0 7FE000      2      1      0      1      2 7FE000      2 7FDFFF 7FE000\n",
      "     2      2      0      2 7FE000      2 7FE000      0      0 7FDFFF      0 7FE000 7FDFFF 7FE000 7FE000      1\n",
      "     1 7FDFFF      2      1      0      1      2      2      2 7FE000 7FE000      2 7FDFFF      0      0      1\n",
      "     2      0      1 7FE000      2 7FDFFF      1      2      2      0      2      1      2      2 7FE000      0\n",
      "     2 7FDFFF      1 7FE000 7FDFFF 7FE000      1      0      1      1 7FDFFF 7FDFFF 7FDFFF 7FE000      1 7FDFFF\n",
      "     0      2      1      0 7FDFFF      0      1 7FE000 7FDFFF      0 7FE000      1 7FE000      1      2 7FDFFF\n",
      "     0      0      1 7FE000      1      2 7FE000 7FE000 7FDFFF      0      1 7FE000      0 7FE000 7FE000 7FE000\n",
      "7FE000 7FE000      0      2      0      2 7FE000      2      0      2      2      2      1 7FE000 7FE000 7FE000\n",
      "     0      1      2      1      0      2      1      2 7FE000      1 7FDFFF      1      2      0      1      2\n",
      "7FDFFF 7FDFFF      0      2 7FDFFF 7FDFFF      2 7FE000 7FE000      0      1      1      0 7FE000 7FE000 7FE000\n"
     ]
    }
   ],
   "source": [
    "seed_rnd = os.urandom(64).hex()\n",
    "seed_fixed = \"00000000000000000000000000000000000000000000000000000000000000000000000000000000000000000000000000000000000000000000000000000000\"\n",
    "seed = binascii.unhexlify(seed_fixed)\n",
    "i = 0 # i < k+l = 15\n",
    "coeffs = rejbounded(seed, 0)\n",
    "\n",
    "print(\"\\n\".join(\" \".join(f\"{x:6X}\" for x in coeffs[i:i + 16]) for i in range(0, len(coeffs), 16)))"
   ]
  },
  {
   "cell_type": "code",
   "execution_count": 9,
   "metadata": {},
   "outputs": [
    {
     "name": "stdout",
     "output_type": "stream",
     "text": [
      "59DF49 3C9B80 4A0154 6ACCAB 75199A 2D48ED 19D957 729102  9B601 462A78 6D5EC7 10AAA9 2E342E 4D5FC7 556419 39C8B8\n",
      "5F75BC 59F799 6A6A16  A1A97 47C0BC 49EF15 529E3D 46698B 11E056 37606B 55A075 32AA95 7A9541 652F69 45A182 2C86C6\n",
      "5209F4 3102C5 75DC85  25F1F 245B55  939A4  2D95B 3D4747 46C617 1247F3 77F90D 4A5F3A 505508  99F99 1B517C 12CD3A\n",
      "116B7C 4BE2D4 1DBDEA 450D85 48DEF0 420F06 7E2015 612643 250348 1FBF76 4C10A9 6713EA  7FB5D 73D309 138FF4 7038AC\n",
      "64351F 5749BA 2D5CDC  4C1A1 597363 7E1C01 53629D 6870C8 52CDA2 72FA23 5FB6AE 4822AD 572105 38F1AF 5A8FA5 1B6112\n",
      "690176   742C 3B437A 5947D9 1410BC 77125C 1707BF 7D4168 4CE295 180B07 14E13D 254BAA 2FDFAD 3077B1 50AE3A 244903\n",
      "59814B 3B0A15 161B9F  85C13 3DFDA0 4BB71C 666398 712EBD 6C921A  34BC7 6AA929 2C0A2C 1F3480 7FB3DD 55E229 13AC54\n",
      "179F34 7EF9D4 7F50C7 36AD97 6CD233  9FA8E 30D973 45591B 5753C7 1588A3 7860FD 5E957E 2C1D79  665EC 79D0BC 264E1D\n",
      "543F36 18F808 755A6E 48193A 7EE4F2 50EE91 53F012 303B4A 54C826 101F3D 3F2968 287D64  E2188  CE625 1DED2C 4DAF4D\n",
      " 40DF7 60CD8A  78B93 350C7B 53BD2E 66D9A1 196C5E 7B37C7 34771D 6B9D65 702E0B 7AA3DF 4977BD 163AC1 5C9813 363BE9\n",
      "3E743A 4B2938 40C73C 630ECC 7892CE 1CF507 129145 52A841  24D11 4EB060 649D59 376A0E  5F909 385849 2D0743 7B4DEE\n",
      "2F360F 338CD2 47FBD4 56ECC3 453823 7E8BD1 22C112 7BD400 70AB20 3AC7D5  2A85C  9157B 3F688F 2E40EE 4DC6AC  E8766\n",
      "5FF4EE 567387 6F0878 3406EE 6DA88C 5A9F3E 1F3256 74BFEF 3A7D54 1718F2 1851A2 13BE01 75BE58 6C4A45 6638E6 5C320C\n",
      "4CC3E9 67A4FD 3346F9 2C2F3E 464A5B 11C95C 385454 41C0D0  AF8D8 1F5915 183FF3 5947F0 3ABFA4 7738DD 6E1FE7 70FCA5\n",
      "3CD6A7 7C8F76 3821F7  73A11 1ECE92  B3081 153174 64D2EA 6D2757 2C7980 3BB9E0 444986 2FC56F 20F574 32CA93 2C93CC\n",
      "51D0CF 1E20D1 1A8FD9 5BCBC5 378CEA 40136D 310189 5307C8 6CF1D0 5F3F42 3E79F8 417737 127341 234421 1078D9  38EE4\n"
     ]
    }
   ],
   "source": [
    "seed_rnd = os.urandom(32).hex()\n",
    "seed_fixed = \"0000000000000000000000000000000000000000000000000000000000000000\"\n",
    "seed = binascii.unhexlify(seed_fixed)\n",
    "i = 0 # i < k = 8\n",
    "j = 0 # j < l = 7\n",
    "coeffs = rejection_q(seed, i, j)\n",
    "\n",
    "print(\"\\n\".join(\" \".join(f\"{x:6X}\" for x in coeffs[i:i + 16]) for i in range(0, len(coeffs), 16)))"
   ]
  },
  {
   "cell_type": "code",
   "execution_count": 10,
   "metadata": {},
   "outputs": [
    {
     "name": "stdout",
     "output_type": "stream",
     "text": [
      "nonzero_count = 60\n",
      "     0 7FE000      0      0 7FE000      1      0      0      0      0      1      1      0      0      0      0\n",
      "     0      1      1      0      0      0      0      1      0 7FE000      0      0      0 7FE000      1      0\n",
      "     0      0 7FE000      0      0      0 7FE000      0      0      0      0      0 7FE000      0      0      0\n",
      "7FE000      0      0 7FE000      0      0      1 7FE000      0      0      0      1      0      0      0 7FE000\n",
      "     0      0      0 7FE000      0      0      1      0      1 7FE000      0      0      0      0      1 7FE000\n",
      "     1      0      0      0      0      0      1      1 7FE000      0      0      0      0      0      0      0\n",
      "     0      0 7FE000      0      1      0      0      0      0      0      0      0      0      0      0      0\n",
      "     0      1 7FE000      0      1      0      0      0      0      0      0      0      0      0      0      1\n",
      "     0      1      0      0      0      0      0      1      1      0      0      0      0      1      0      0\n",
      "     0      0      0 7FE000      1      0      0 7FE000      0      0      0      0      0      1      0      0\n",
      "     1      0      0      0      0      0      0      0      0      0      0      0      0 7FE000      0      0\n",
      "     1      0      0      0      0      0      0      0      0      0      0      0      0      0      0      0\n",
      "     0      0      0 7FE000      0      0      0      0      0      0      0      0      0      0      0      0\n",
      "     0      0      0      1      0 7FE000      0      0      1      0      0      0 7FE000      0 7FE000      0\n",
      "     1      0      0      0      0 7FE000      0      0      0 7FE000      0      0      0      0 7FE000      0\n",
      "     0      0      0      0      0      0      0 7FE000 7FE000 7FE000      0      0      0      0      0      0\n"
     ]
    }
   ],
   "source": [
    "seed_rnd = os.urandom(32).hex()\n",
    "seed_fixed = \"0000000000000000000000000000000000000000000000000000000000000000\"\n",
    "seed = binascii.unhexlify(seed_fixed)\n",
    "coeffs = sample_in_ball(seed)\n",
    "\n",
    "nonzero_count = sum(1 for elem in coeffs if elem != 0)\n",
    "print(\"nonzero_count =\", nonzero_count)\n",
    "\n",
    "\n",
    "print(\"\\n\".join(\" \".join(f\"{x:6X}\" for x in coeffs[i:i + 16]) for i in range(0, len(coeffs), 16)))"
   ]
  },
  {
   "cell_type": "code",
   "execution_count": 11,
   "metadata": {},
   "outputs": [
    {
     "name": "stdout",
     "output_type": "stream",
     "text": [
      " 57CB4 786F89 7CD75E  6E0F8  62D3A   D5EE  20641 7EE83F 7C5FB6 7A956A 7A8E39  59DF1 7DE4C3  71FCB 7D4CF9 7D4519\n",
      "7D641A 7CC5DC 7EC5C3 7C39A6 7C2873 7F164B 7C1E07 7F4F77 7F3901 79632C 7F0175  6F64F 7D3FE5 7DE524   5939  16A2A\n",
      " 28F06 788A42 788084 7EF79D 7EC990 7E7718  38EAE 7B9C95 7D7C9E 7AC838  372FA 7F6C9F   C273  72F3B  75581 780C30\n",
      " 650E9  4A4AE 7B34B6 77F1FB  7BB5E 7C60CE 7F5CDB 7FC2E7 7BC6AE 7C7CCD  26A0E  2B936  427E8 7D3A2F 7A4036 7F1CB3\n",
      "79F0EB   1D8D 7C4710  37C3F  73096 7A3CE6 7A01ED  41F44   3010 7FAD97  787F4 7A63C3  2A799 7988BE  6DC23 7AEC0F\n",
      " 62FC5 7E61ED 7D37C9  7F481 7D07EC 79B0AB 7CD023 7EEBC9  495B5 7E5330  41EA8 7D468D  1EC25 780E2C  6E435 7ED7A5\n",
      " 5E5AA 7D7A9D 78C509 7FAB0C 7C50C2  710AE  5B50C  22481 7900A4  26B35  5595F  33F93   F384  1C93D  56273 793D6A\n",
      " 4A094 789899 7BB2E5 7FDD59 7D886A 7E2633  58572 7D5D03  58CB5  2FBC3  701C5 7EC79E 7B6853   2A33  5EE57  52229\n",
      "7AABA1   1075 7EFC52 7D713A  3CC4A 785B84   332F  3CD25  35410 7A6066    36A 78CB6B  339AF  3075F 79642D 77EC58\n",
      "7B9C02  6E6DE  7C7DF   B0C9  55A10 7E7FEC  1ADE5  471B2  59963  518F9 7BAE2A 795116  68EF2 7E9B36   D9B9  358BF\n",
      " 55AC4 7C73E9 7D0832 7A4C7D  51780  2F6FC  63CDD 7AC043 7DFF7D 7F67BF 7EE0E4  1F23E  7DE52  5C550 7E09C4  120F3\n",
      "7EAAB7  2E8FD  67C64  36513 7800D5  4D79C 7D0B80  7C1FC  7B2C1 7BD166  3CA81  3DD6C 783159 7F3036  4A0B8  51615\n",
      " 3156D  70E86 7BFC29  12D4E  21651 7A6ABF  5704D 784B6A   EAE8  39BBD  13A0F    779  70A47  74D15  19B44  22DD5\n",
      "7E8DBB  19FF7  19654 7BFCFA 7912A2 7B5B41  14C36 7E6D4A 7F5E57 7C6BF7 7F3956 7EB207  290B4 7FD6A3  7BAF2  3C565\n",
      "7CC473 7E197F  479E9 7DDFE5  79637 7FAF2E 786731  6FF54 7C0AF2 796EF2  5D229 7D21CD  12863 7FDA25 7A03DB 7C25BB\n",
      " 7DAFE 7D8733 7DF3BC   A0DF  368F6 783537  360A3  46113 78F179  58DCC 79AC6E 7EFB21 7F6C88 78A9CA 7EE27A  6640A\n"
     ]
    }
   ],
   "source": [
    "seed_rnd = os.urandom(64).hex()\n",
    "seed_fixed = \"00000000000000000000000000000000000000000000000000000000000000000000000000000000000000000000000000000000000000000000000000000000\"\n",
    "seed = binascii.unhexlify(seed_fixed)\n",
    "i = 0\n",
    "kappa = 0\n",
    "coeffs = expand_mask(seed, i, kappa)\n",
    "\n",
    "print(\"\\n\".join(\" \".join(f\"{x:6X}\" for x in coeffs[i:i + 16]) for i in range(0, len(coeffs), 16)))"
   ]
  }
 ],
 "metadata": {
  "kernelspec": {
   "display_name": "Python 3",
   "language": "python",
   "name": "python3"
  },
  "language_info": {
   "codemirror_mode": {
    "name": "ipython",
    "version": 3
   },
   "file_extension": ".py",
   "mimetype": "text/x-python",
   "name": "python",
   "nbconvert_exporter": "python",
   "pygments_lexer": "ipython3",
   "version": "3.11.8"
  }
 },
 "nbformat": 4,
 "nbformat_minor": 2
}
