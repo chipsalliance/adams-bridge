{
 "cells": [
  {
   "cell_type": "code",
   "execution_count": 127,
   "metadata": {},
   "outputs": [],
   "source": [
    "import random"
   ]
  },
  {
   "cell_type": "code",
   "execution_count": 128,
   "metadata": {},
   "outputs": [],
   "source": [
    "DILITHIUM_Q = 8380417 # 2**23 - 2**13 + 1\n",
    "DILITHIUM_N = 256\n",
    "DILITHIUM_gamma2 = (DILITHIUM_Q -1)// 32"
   ]
  },
  {
   "cell_type": "code",
   "execution_count": 129,
   "metadata": {},
   "outputs": [],
   "source": [
    "\"\"\"\n",
    "Compute the high and low bits at the same time\n",
    "Not in the pseudocode, but needed for the more\n",
    "efficient signing which we implement based on\n",
    "section 5.1\n",
    "\"\"\"\n",
    "def poly_decompose(poly):\n",
    "    coeff_high = []\n",
    "    coeff_low  = []\n",
    "    for c in poly:\n",
    "        r1, r0 = decompose(c)\n",
    "        coeff_high.append(r1)\n",
    "        coeff_low.append(r0)\n",
    "    return coeff_high, coeff_low\n",
    "\n",
    "def decompose(r):\n",
    "    \"\"\"\n",
    "    Takes an element r and represents\n",
    "    it as:\n",
    "\n",
    "    r = r1*a + r0\n",
    "\n",
    "    With r0 in the range\n",
    "\n",
    "    -(a << 1) < r0 <= (a << 1)\n",
    "    \"\"\"\n",
    "    a = 2*DILITHIUM_gamma2\n",
    "    r  = r % DILITHIUM_Q\n",
    "    r0 = reduce_mod_pm(r, a)\n",
    "    r1 = r - r0\n",
    "    if r1 == DILITHIUM_Q - 1:\n",
    "        r1 = 0\n",
    "        r0 = r0 - 1\n",
    "    else:\n",
    "        r1 = r1 // a\n",
    "    \n",
    "    r0 = r0 % DILITHIUM_Q\n",
    "    assert r == (r1*a + r0) % DILITHIUM_Q\n",
    "    return r1, r0\n",
    "\n",
    "def reduce_mod_pm(n, a):\n",
    "    \"\"\"\n",
    "    Takes an integer n and represents\n",
    "    it as an integer in the range\n",
    "\n",
    "    r = n % a\n",
    "\n",
    "    for a odd:\n",
    "        -(a-1)/2 < r <= (a-1)/2\n",
    "    for a even:\n",
    "        - a / 2  < r <= a / 2\n",
    "    \"\"\"\n",
    "    r = n % a\n",
    "    if r > (a >> 1):\n",
    "        r -= a\n",
    "    return r"
   ]
  },
  {
   "cell_type": "code",
   "execution_count": 130,
   "metadata": {},
   "outputs": [
    {
     "name": "stdout",
     "output_type": "stream",
     "text": [
      "01D2DA 000000 01D2DA\n",
      "75285E 00000F 7D265F\n",
      "37E2C5 000007 7FD0C6\n",
      "0E9D38 000002 7E8139\n",
      "2ADE00 000005 02E800\n",
      "5F7BF6 00000C 7F73F7\n",
      "7C7201 000000 7C7201\n",
      "1D850D 000004 7D6D0E\n",
      "613646 00000C 014E46\n",
      "1C476A 000004 7C2F6B\n",
      "361C98 000007 7E0A99\n",
      "66E48C 00000D 7EDE8D\n",
      "39A96A 000007 01B76A\n",
      "1179C4 000002 017DC4\n",
      "13A871 000002 03AC71\n",
      "663BBD 00000D 7E35BE\n",
      "0585A2 000001 7D67A3\n",
      "6B2028 00000D 033A28\n",
      "267884 000005 7E6285\n",
      "19DB9B 000003 01E19B\n",
      "1DA17D 000004 7D897E\n",
      "7E3188 000000 7E3188\n",
      "4A99F3 000009 02ABF3\n",
      "45D850 000009 7DCA51\n",
      "7B8514 00000F 03A314\n",
      "699058 00000D 01AA58\n"
     ]
    }
   ],
   "source": [
    "poly = []\n",
    "for i in range (DILITHIUM_N):\n",
    "    poly.append(random.randrange(DILITHIUM_Q))\n",
    "coeff_high, coeff_low = poly_decompose(poly)\n",
    "\n",
    "values = merged_list = [list(i) for i in zip(poly, coeff_high, coeff_low)]\n",
    "cols = 10 #DILITHIUM_N\n",
    "for i in range(0, len(values), cols):\n",
    "    row_values = values[i]\n",
    "    print(\" \".join(f\"{value:06X}\" for value in row_values))"
   ]
  }
 ],
 "metadata": {
  "kernelspec": {
   "display_name": "Python 3",
   "language": "python",
   "name": "python3"
  },
  "language_info": {
   "codemirror_mode": {
    "name": "ipython",
    "version": 3
   },
   "file_extension": ".py",
   "mimetype": "text/x-python",
   "name": "python",
   "nbconvert_exporter": "python",
   "pygments_lexer": "ipython3",
   "version": "3.6.8"
  }
 },
 "nbformat": 4,
 "nbformat_minor": 2
}
