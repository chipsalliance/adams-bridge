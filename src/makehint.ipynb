{
 "cells": [
  {
   "cell_type": "markdown",
   "metadata": {},
   "source": [
    "# Dilithium MakeHint Reference Implementation"
   ]
  },
  {
   "cell_type": "code",
   "execution_count": 17,
   "metadata": {},
   "outputs": [],
   "source": [
    "import random"
   ]
  },
  {
   "cell_type": "markdown",
   "metadata": {},
   "source": [
    "### Parameters"
   ]
  },
  {
   "cell_type": "code",
   "execution_count": 18,
   "metadata": {},
   "outputs": [],
   "source": [
    "DILITHIUM_Q = 8380417 # 2**23 - 2**13 + 1\n",
    "DILITHIUM_N = 256\n",
    "DILITHIUM_LOGN = 8\n",
    "DILITHIUM_ROOT_OF_UNITY = 1753\n",
    "\n",
    "## Category 5 parameters:\n",
    "DILITHIUM_K = 8\n",
    "DILITHIUM_L = 7\n",
    "DILITHIUM_GAMMA2 = (DILITHIUM_Q -1)// 32\n",
    "DILITHIUM_OMEGA = 75"
   ]
  },
  {
   "cell_type": "markdown",
   "metadata": {},
   "source": [
    "### MakeHint/UseHint ref model"
   ]
  },
  {
   "cell_type": "code",
   "execution_count": 19,
   "metadata": {},
   "outputs": [],
   "source": [
    "\"\"\"\n",
    "`_make_hint/_use_hint` is applied to matricies and `_make_hint_poly/_use_hint_poly` \n",
    "applies to the polynomials, which are elements of the matricies. \n",
    "\n",
    "`_make_hint_poly/_use_hint_poly` uses the util functions `use_hint/make_hint` \n",
    "which works on field elements\n",
    "\"\"\"  \n",
    "def _make_hint(v1, v2):\n",
    "    matrix = [_make_hint_poly(p1, p2) for p1, p2 in zip(v1, v2)]\n",
    "\n",
    "    return matrix\n",
    "\n",
    "def _make_hint_poly(p1, p2):\n",
    "    coeffs = [make_hint(r, z) for r, z in zip(p1, p2)]\n",
    "    return coeffs\n",
    "\n",
    "def make_hint(r, z):\n",
    "    if r <= DILITHIUM_GAMMA2 or r > (DILITHIUM_Q - DILITHIUM_GAMMA2) or (r == (DILITHIUM_Q - DILITHIUM_GAMMA2) and z == 0):\n",
    "        return 0\n",
    "    return 1\n",
    "\n",
    "def _sum_hint(hint):\n",
    "    \"\"\"\n",
    "    count the number of coeffs == 1\n",
    "    \"\"\"\n",
    "    return sum(sum(row) for row in hint)\n",
    "\n",
    "\n",
    "# def _use_hint(v1, v2, alpha):\n",
    "#     matrix = [[_use_hint_poly(p1, p2, alpha) for p1, p2 in zip(v1.rows[i], v2.rows[i])]\n",
    "#                 for i in range(v1.m)]\n",
    "#     return M(matrix)\n",
    " \n",
    "# def _use_hint_poly(self, p1, p2, alpha, is_ntt=False):\n",
    "#     coeffs = [use_hint(h, r, alpha, self.q) for h, r in zip(p1.coeffs, p2.coeffs)]\n",
    "#     return self.R(coeffs)\n",
    "\n",
    "# def use_hint(h,r,a,q):\n",
    "#     m = (q-1) // a\n",
    "#     r1, r0 = decompose(r, a, q)\n",
    "#     if h == 1:\n",
    "#         if r0 > 0:\n",
    "#             return (r1 + 1) % m\n",
    "#         return (r1 - 1) % m\n",
    "#     return r1"
   ]
  },
  {
   "cell_type": "markdown",
   "metadata": {},
   "source": [
    "## Test"
   ]
  },
  {
   "cell_type": "code",
   "execution_count": 20,
   "metadata": {},
   "outputs": [
    {
     "name": "stdout",
     "output_type": "stream",
     "text": [
      "1947\n",
      "failed\n"
     ]
    }
   ],
   "source": [
    "w0_minus_cs2_plus_ct0 = [[random.randint(0, DILITHIUM_Q - 1) for _ in range(DILITHIUM_N)] for poly_i in range(DILITHIUM_K)]\n",
    "w1 = [[random.randint(0, 15) for _ in range(DILITHIUM_N)] for poly_i in range(DILITHIUM_K)]\n",
    "\n",
    "h = _make_hint(w0_minus_cs2_plus_ct0, w1)   \n",
    "print(_sum_hint(h))\n",
    "if _sum_hint(h) <= DILITHIUM_OMEGA:\n",
    "    print(\"successful\")\n",
    "else:\n",
    "    print(\"failed\")"
   ]
  }
 ],
 "metadata": {
  "kernelspec": {
   "display_name": "Python 3",
   "language": "python",
   "name": "python3"
  },
  "language_info": {
   "codemirror_mode": {
    "name": "ipython",
    "version": 3
   },
   "file_extension": ".py",
   "mimetype": "text/x-python",
   "name": "python",
   "nbconvert_exporter": "python",
   "pygments_lexer": "ipython3",
   "version": "3.6.8"
  }
 },
 "nbformat": 4,
 "nbformat_minor": 2
}
